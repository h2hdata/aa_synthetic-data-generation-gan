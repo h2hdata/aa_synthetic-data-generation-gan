{
 "cells": [
  {
   "cell_type": "markdown",
   "metadata": {},
   "source": [
    "# Problem"
   ]
  },
  {
   "cell_type": "markdown",
   "metadata": {},
   "source": [
    "Synthetic Data Generation"
   ]
  },
  {
   "cell_type": "markdown",
   "metadata": {},
   "source": [
    "## About"
   ]
  },
  {
   "cell_type": "markdown",
   "metadata": {},
   "source": [
    "In this problem we have transaction data where target is having two category, 1. whether it a fraud or 2.  not fraud. Where we have 492 frauds out of 284,807 transactions. Which makes dataset highly unbalanced, the positive class (frauds) account for 0.172% of all transactions. When we go for making a model using this  data set then model will be skewed towards majority class as it have more data from majority class it will learn majority class pattern mostly.  Due to this it become very important to do some method so that our data will become balanced and one of technique is to generate synthetic data.  "
   ]
  },
  {
   "cell_type": "code",
   "execution_count": 1,
   "metadata": {
    "collapsed": true
   },
   "outputs": [],
   "source": [
    "# -*- coding: utf-8 -*-"
   ]
  },
  {
   "cell_type": "markdown",
   "metadata": {},
   "source": [
    "Synthetic Data Generation.<br>\n",
    "Models: GAN model is used<br>\n",
    "\n",
    "#Copyright@ H2HDATA\n",
    "\n",
    "The entire prcess occurs in seven stages-\n",
    "1. DATA INGESTION\n",
    "2. DATA ANALYSIS \n",
    "3. DATA MUNGING\n",
    "4. DATA EXPLORATION\n",
    "5. DATA MODELING\n",
    "6. HYPER-PARAMETERS OPTIMIZATION\n",
    "7. PREDICTION\n",
    "8. VISUAL ANALYSIS\n",
    "9. RESULTS\n",
    "\n",
    "\n",
    "Used library\n",
    "1. pandas\n",
    "2. numpy\n",
    "3. time\n",
    "4. sklearn\n",
    "5. matplotlib\n",
    "6. GAN\n",
    "7. Keras\n",
    "\n"
   ]
  },
  {
   "cell_type": "code",
   "execution_count": 2,
   "metadata": {},
   "outputs": [
    {
     "name": "stderr",
     "output_type": "stream",
     "text": [
      "/usr/lib64/python2.7/site-packages/h5py/__init__.py:36: FutureWarning: Conversion of the second argument of issubdtype from `float` to `np.floating` is deprecated. In future, it will be treated as `np.float64 == np.dtype(float).type`.\n",
      "  from ._conv import register_converters as _register_converters\n",
      "Using TensorFlow backend.\n"
     ]
    }
   ],
   "source": [
    "import GAN\n",
    "import importlib\n",
    "from GAN import *\n",
    "import matplotlib.pyplot as plt"
   ]
  },
  {
   "cell_type": "markdown",
   "metadata": {},
   "source": [
    "## Data Ingestion"
   ]
  },
  {
   "cell_type": "code",
   "execution_count": 3,
   "metadata": {
    "collapsed": true
   },
   "outputs": [],
   "source": [
    "import pandas as pd \n",
    "train = pd.read_csv('../Data/creditcard.csv')\n",
    "train_start = train"
   ]
  },
  {
   "cell_type": "code",
   "execution_count": 4,
   "metadata": {},
   "outputs": [
    {
     "data": {
      "text/html": [
       "<div>\n",
       "<style>\n",
       "    .dataframe thead tr:only-child th {\n",
       "        text-align: right;\n",
       "    }\n",
       "\n",
       "    .dataframe thead th {\n",
       "        text-align: left;\n",
       "    }\n",
       "\n",
       "    .dataframe tbody tr th {\n",
       "        vertical-align: top;\n",
       "    }\n",
       "</style>\n",
       "<table border=\"1\" class=\"dataframe\">\n",
       "  <thead>\n",
       "    <tr style=\"text-align: right;\">\n",
       "      <th></th>\n",
       "      <th>Time</th>\n",
       "      <th>V1</th>\n",
       "      <th>V2</th>\n",
       "      <th>V3</th>\n",
       "      <th>V4</th>\n",
       "      <th>V5</th>\n",
       "      <th>V6</th>\n",
       "      <th>V7</th>\n",
       "      <th>V8</th>\n",
       "      <th>V9</th>\n",
       "      <th>...</th>\n",
       "      <th>V21</th>\n",
       "      <th>V22</th>\n",
       "      <th>V23</th>\n",
       "      <th>V24</th>\n",
       "      <th>V25</th>\n",
       "      <th>V26</th>\n",
       "      <th>V27</th>\n",
       "      <th>V28</th>\n",
       "      <th>Amount</th>\n",
       "      <th>Class</th>\n",
       "    </tr>\n",
       "  </thead>\n",
       "  <tbody>\n",
       "    <tr>\n",
       "      <th>0</th>\n",
       "      <td>0</td>\n",
       "      <td>-1.359807</td>\n",
       "      <td>-0.072781</td>\n",
       "      <td>2.536347</td>\n",
       "      <td>1.378155</td>\n",
       "      <td>-0.338321</td>\n",
       "      <td>0.462388</td>\n",
       "      <td>0.239599</td>\n",
       "      <td>0.098698</td>\n",
       "      <td>0.363787</td>\n",
       "      <td>...</td>\n",
       "      <td>-0.018307</td>\n",
       "      <td>0.277838</td>\n",
       "      <td>-0.110474</td>\n",
       "      <td>0.066928</td>\n",
       "      <td>0.128539</td>\n",
       "      <td>-0.189115</td>\n",
       "      <td>0.133558</td>\n",
       "      <td>-0.021053</td>\n",
       "      <td>149.62</td>\n",
       "      <td>0</td>\n",
       "    </tr>\n",
       "    <tr>\n",
       "      <th>1</th>\n",
       "      <td>0</td>\n",
       "      <td>1.191857</td>\n",
       "      <td>0.266151</td>\n",
       "      <td>0.166480</td>\n",
       "      <td>0.448154</td>\n",
       "      <td>0.060018</td>\n",
       "      <td>-0.082361</td>\n",
       "      <td>-0.078803</td>\n",
       "      <td>0.085102</td>\n",
       "      <td>-0.255425</td>\n",
       "      <td>...</td>\n",
       "      <td>-0.225775</td>\n",
       "      <td>-0.638672</td>\n",
       "      <td>0.101288</td>\n",
       "      <td>-0.339846</td>\n",
       "      <td>0.167170</td>\n",
       "      <td>0.125895</td>\n",
       "      <td>-0.008983</td>\n",
       "      <td>0.014724</td>\n",
       "      <td>2.69</td>\n",
       "      <td>0</td>\n",
       "    </tr>\n",
       "    <tr>\n",
       "      <th>2</th>\n",
       "      <td>1</td>\n",
       "      <td>-1.358354</td>\n",
       "      <td>-1.340163</td>\n",
       "      <td>1.773209</td>\n",
       "      <td>0.379780</td>\n",
       "      <td>-0.503198</td>\n",
       "      <td>1.800499</td>\n",
       "      <td>0.791461</td>\n",
       "      <td>0.247676</td>\n",
       "      <td>-1.514654</td>\n",
       "      <td>...</td>\n",
       "      <td>0.247998</td>\n",
       "      <td>0.771679</td>\n",
       "      <td>0.909412</td>\n",
       "      <td>-0.689281</td>\n",
       "      <td>-0.327642</td>\n",
       "      <td>-0.139097</td>\n",
       "      <td>-0.055353</td>\n",
       "      <td>-0.059752</td>\n",
       "      <td>378.66</td>\n",
       "      <td>0</td>\n",
       "    </tr>\n",
       "    <tr>\n",
       "      <th>3</th>\n",
       "      <td>1</td>\n",
       "      <td>-0.966272</td>\n",
       "      <td>-0.185226</td>\n",
       "      <td>1.792993</td>\n",
       "      <td>-0.863291</td>\n",
       "      <td>-0.010309</td>\n",
       "      <td>1.247203</td>\n",
       "      <td>0.237609</td>\n",
       "      <td>0.377436</td>\n",
       "      <td>-1.387024</td>\n",
       "      <td>...</td>\n",
       "      <td>-0.108300</td>\n",
       "      <td>0.005274</td>\n",
       "      <td>-0.190321</td>\n",
       "      <td>-1.175575</td>\n",
       "      <td>0.647376</td>\n",
       "      <td>-0.221929</td>\n",
       "      <td>0.062723</td>\n",
       "      <td>0.061458</td>\n",
       "      <td>123.50</td>\n",
       "      <td>0</td>\n",
       "    </tr>\n",
       "    <tr>\n",
       "      <th>4</th>\n",
       "      <td>2</td>\n",
       "      <td>-1.158233</td>\n",
       "      <td>0.877737</td>\n",
       "      <td>1.548718</td>\n",
       "      <td>0.403034</td>\n",
       "      <td>-0.407193</td>\n",
       "      <td>0.095921</td>\n",
       "      <td>0.592941</td>\n",
       "      <td>-0.270533</td>\n",
       "      <td>0.817739</td>\n",
       "      <td>...</td>\n",
       "      <td>-0.009431</td>\n",
       "      <td>0.798278</td>\n",
       "      <td>-0.137458</td>\n",
       "      <td>0.141267</td>\n",
       "      <td>-0.206010</td>\n",
       "      <td>0.502292</td>\n",
       "      <td>0.219422</td>\n",
       "      <td>0.215153</td>\n",
       "      <td>69.99</td>\n",
       "      <td>0</td>\n",
       "    </tr>\n",
       "  </tbody>\n",
       "</table>\n",
       "<p>5 rows × 31 columns</p>\n",
       "</div>"
      ],
      "text/plain": [
       "   Time        V1        V2        V3        V4        V5        V6        V7  \\\n",
       "0     0 -1.359807 -0.072781  2.536347  1.378155 -0.338321  0.462388  0.239599   \n",
       "1     0  1.191857  0.266151  0.166480  0.448154  0.060018 -0.082361 -0.078803   \n",
       "2     1 -1.358354 -1.340163  1.773209  0.379780 -0.503198  1.800499  0.791461   \n",
       "3     1 -0.966272 -0.185226  1.792993 -0.863291 -0.010309  1.247203  0.237609   \n",
       "4     2 -1.158233  0.877737  1.548718  0.403034 -0.407193  0.095921  0.592941   \n",
       "\n",
       "         V8        V9  ...         V21       V22       V23       V24  \\\n",
       "0  0.098698  0.363787  ...   -0.018307  0.277838 -0.110474  0.066928   \n",
       "1  0.085102 -0.255425  ...   -0.225775 -0.638672  0.101288 -0.339846   \n",
       "2  0.247676 -1.514654  ...    0.247998  0.771679  0.909412 -0.689281   \n",
       "3  0.377436 -1.387024  ...   -0.108300  0.005274 -0.190321 -1.175575   \n",
       "4 -0.270533  0.817739  ...   -0.009431  0.798278 -0.137458  0.141267   \n",
       "\n",
       "        V25       V26       V27       V28  Amount  Class  \n",
       "0  0.128539 -0.189115  0.133558 -0.021053  149.62      0  \n",
       "1  0.167170  0.125895 -0.008983  0.014724    2.69      0  \n",
       "2 -0.327642 -0.139097 -0.055353 -0.059752  378.66      0  \n",
       "3  0.647376 -0.221929  0.062723  0.061458  123.50      0  \n",
       "4 -0.206010  0.502292  0.219422  0.215153   69.99      0  \n",
       "\n",
       "[5 rows x 31 columns]"
      ]
     },
     "execution_count": 4,
     "metadata": {},
     "output_type": "execute_result"
    }
   ],
   "source": [
    "train.head()"
   ]
  },
  {
   "cell_type": "markdown",
   "metadata": {},
   "source": [
    "## Data Description"
   ]
  },
  {
   "cell_type": "code",
   "execution_count": 5,
   "metadata": {},
   "outputs": [
    {
     "name": "stdout",
     "output_type": "stream",
     "text": [
      "<class 'pandas.core.frame.DataFrame'>\n",
      "RangeIndex: 284807 entries, 0 to 284806\n",
      "Data columns (total 31 columns):\n",
      "Time      284807 non-null int64\n",
      "V1        284807 non-null float64\n",
      "V2        284807 non-null float64\n",
      "V3        284807 non-null float64\n",
      "V4        284807 non-null float64\n",
      "V5        284807 non-null float64\n",
      "V6        284807 non-null float64\n",
      "V7        284807 non-null float64\n",
      "V8        284807 non-null float64\n",
      "V9        284807 non-null float64\n",
      "V10       284807 non-null float64\n",
      "V11       284807 non-null float64\n",
      "V12       284807 non-null float64\n",
      "V13       284807 non-null float64\n",
      "V14       284807 non-null float64\n",
      "V15       284807 non-null float64\n",
      "V16       284807 non-null float64\n",
      "V17       284807 non-null float64\n",
      "V18       284807 non-null float64\n",
      "V19       284807 non-null float64\n",
      "V20       284807 non-null float64\n",
      "V21       284807 non-null float64\n",
      "V22       284807 non-null float64\n",
      "V23       284807 non-null float64\n",
      "V24       284807 non-null float64\n",
      "V25       284807 non-null float64\n",
      "V26       284807 non-null float64\n",
      "V27       284807 non-null float64\n",
      "V28       284807 non-null float64\n",
      "Amount    284807 non-null float64\n",
      "Class     284807 non-null int64\n",
      "dtypes: float64(29), int64(2)\n",
      "memory usage: 67.4 MB\n"
     ]
    }
   ],
   "source": [
    "train.info()"
   ]
  },
  {
   "cell_type": "markdown",
   "metadata": {},
   "source": [
    "## Data Munging"
   ]
  },
  {
   "cell_type": "code",
   "execution_count": 6,
   "metadata": {},
   "outputs": [
    {
     "name": "stdout",
     "output_type": "stream",
     "text": [
      "Normal duplicates 1062\n",
      "Fraud duplicates 19\n",
      "Length of data 284807\n"
     ]
    }
   ],
   "source": [
    "train1= train\n",
    "#train1 = train1.duplicated(keep='first')\n",
    "print 'Normal duplicates', sum(train1.loc[ train1.Class==0 ].duplicated())\n",
    "print 'Fraud duplicates', sum( train1.loc[ train1.Class==1 ].duplicated() )\n",
    "print 'Length of data', len(train1)"
   ]
  },
  {
   "cell_type": "code",
   "execution_count": 7,
   "metadata": {},
   "outputs": [
    {
     "data": {
      "text/plain": [
       "283726"
      ]
     },
     "execution_count": 7,
     "metadata": {},
     "output_type": "execute_result"
    }
   ],
   "source": [
    "train = train.drop_duplicates(subset=None, keep='first', inplace=False)\n",
    "len(train)"
   ]
  },
  {
   "cell_type": "code",
   "execution_count": 8,
   "metadata": {},
   "outputs": [
    {
     "data": {
      "text/html": [
       "<div>\n",
       "<style>\n",
       "    .dataframe thead tr:only-child th {\n",
       "        text-align: right;\n",
       "    }\n",
       "\n",
       "    .dataframe thead th {\n",
       "        text-align: left;\n",
       "    }\n",
       "\n",
       "    .dataframe tbody tr th {\n",
       "        vertical-align: top;\n",
       "    }\n",
       "</style>\n",
       "<table border=\"1\" class=\"dataframe\">\n",
       "  <thead>\n",
       "    <tr style=\"text-align: right;\">\n",
       "      <th></th>\n",
       "      <th>Time</th>\n",
       "      <th>V1</th>\n",
       "      <th>V2</th>\n",
       "      <th>V3</th>\n",
       "      <th>V4</th>\n",
       "      <th>V5</th>\n",
       "      <th>V6</th>\n",
       "      <th>V7</th>\n",
       "      <th>V8</th>\n",
       "      <th>V9</th>\n",
       "      <th>...</th>\n",
       "      <th>V21</th>\n",
       "      <th>V22</th>\n",
       "      <th>V23</th>\n",
       "      <th>V24</th>\n",
       "      <th>V25</th>\n",
       "      <th>V26</th>\n",
       "      <th>V27</th>\n",
       "      <th>V28</th>\n",
       "      <th>Amount</th>\n",
       "      <th>Class</th>\n",
       "    </tr>\n",
       "  </thead>\n",
       "  <tbody>\n",
       "    <tr>\n",
       "      <th>count</th>\n",
       "      <td>283726.000000</td>\n",
       "      <td>283726.000000</td>\n",
       "      <td>283726.000000</td>\n",
       "      <td>283726.000000</td>\n",
       "      <td>283726.000000</td>\n",
       "      <td>283726.000000</td>\n",
       "      <td>283726.000000</td>\n",
       "      <td>283726.000000</td>\n",
       "      <td>283726.000000</td>\n",
       "      <td>283726.000000</td>\n",
       "      <td>...</td>\n",
       "      <td>283726.000000</td>\n",
       "      <td>283726.000000</td>\n",
       "      <td>283726.000000</td>\n",
       "      <td>283726.000000</td>\n",
       "      <td>283726.000000</td>\n",
       "      <td>283726.000000</td>\n",
       "      <td>283726.000000</td>\n",
       "      <td>283726.000000</td>\n",
       "      <td>283726.000000</td>\n",
       "      <td>283726.000000</td>\n",
       "    </tr>\n",
       "    <tr>\n",
       "      <th>mean</th>\n",
       "      <td>94811.077600</td>\n",
       "      <td>0.005917</td>\n",
       "      <td>-0.004135</td>\n",
       "      <td>0.001613</td>\n",
       "      <td>-0.002966</td>\n",
       "      <td>0.001828</td>\n",
       "      <td>-0.001139</td>\n",
       "      <td>0.001801</td>\n",
       "      <td>-0.000854</td>\n",
       "      <td>-0.001596</td>\n",
       "      <td>...</td>\n",
       "      <td>-0.000371</td>\n",
       "      <td>-0.000015</td>\n",
       "      <td>0.000198</td>\n",
       "      <td>0.000214</td>\n",
       "      <td>-0.000232</td>\n",
       "      <td>0.000149</td>\n",
       "      <td>0.001763</td>\n",
       "      <td>0.000547</td>\n",
       "      <td>88.472687</td>\n",
       "      <td>0.001667</td>\n",
       "    </tr>\n",
       "    <tr>\n",
       "      <th>std</th>\n",
       "      <td>47481.047891</td>\n",
       "      <td>1.948026</td>\n",
       "      <td>1.646703</td>\n",
       "      <td>1.508682</td>\n",
       "      <td>1.414184</td>\n",
       "      <td>1.377008</td>\n",
       "      <td>1.331931</td>\n",
       "      <td>1.227664</td>\n",
       "      <td>1.179054</td>\n",
       "      <td>1.095492</td>\n",
       "      <td>...</td>\n",
       "      <td>0.723909</td>\n",
       "      <td>0.724550</td>\n",
       "      <td>0.623702</td>\n",
       "      <td>0.605627</td>\n",
       "      <td>0.521220</td>\n",
       "      <td>0.482053</td>\n",
       "      <td>0.395744</td>\n",
       "      <td>0.328027</td>\n",
       "      <td>250.399437</td>\n",
       "      <td>0.040796</td>\n",
       "    </tr>\n",
       "    <tr>\n",
       "      <th>min</th>\n",
       "      <td>0.000000</td>\n",
       "      <td>-56.407510</td>\n",
       "      <td>-72.715728</td>\n",
       "      <td>-48.325589</td>\n",
       "      <td>-5.683171</td>\n",
       "      <td>-113.743307</td>\n",
       "      <td>-26.160506</td>\n",
       "      <td>-43.557242</td>\n",
       "      <td>-73.216718</td>\n",
       "      <td>-13.434066</td>\n",
       "      <td>...</td>\n",
       "      <td>-34.830382</td>\n",
       "      <td>-10.933144</td>\n",
       "      <td>-44.807735</td>\n",
       "      <td>-2.836627</td>\n",
       "      <td>-10.295397</td>\n",
       "      <td>-2.604551</td>\n",
       "      <td>-22.565679</td>\n",
       "      <td>-15.430084</td>\n",
       "      <td>0.000000</td>\n",
       "      <td>0.000000</td>\n",
       "    </tr>\n",
       "    <tr>\n",
       "      <th>25%</th>\n",
       "      <td>54204.750000</td>\n",
       "      <td>-0.915951</td>\n",
       "      <td>-0.600321</td>\n",
       "      <td>-0.889682</td>\n",
       "      <td>-0.850134</td>\n",
       "      <td>-0.689830</td>\n",
       "      <td>-0.769031</td>\n",
       "      <td>-0.552509</td>\n",
       "      <td>-0.208828</td>\n",
       "      <td>-0.644221</td>\n",
       "      <td>...</td>\n",
       "      <td>-0.228305</td>\n",
       "      <td>-0.542700</td>\n",
       "      <td>-0.161703</td>\n",
       "      <td>-0.354453</td>\n",
       "      <td>-0.317485</td>\n",
       "      <td>-0.326763</td>\n",
       "      <td>-0.070641</td>\n",
       "      <td>-0.052818</td>\n",
       "      <td>5.600000</td>\n",
       "      <td>0.000000</td>\n",
       "    </tr>\n",
       "    <tr>\n",
       "      <th>50%</th>\n",
       "      <td>84692.500000</td>\n",
       "      <td>0.020384</td>\n",
       "      <td>0.063949</td>\n",
       "      <td>0.179963</td>\n",
       "      <td>-0.022248</td>\n",
       "      <td>-0.053468</td>\n",
       "      <td>-0.275168</td>\n",
       "      <td>0.040859</td>\n",
       "      <td>0.021898</td>\n",
       "      <td>-0.052596</td>\n",
       "      <td>...</td>\n",
       "      <td>-0.029441</td>\n",
       "      <td>0.006675</td>\n",
       "      <td>-0.011159</td>\n",
       "      <td>0.041016</td>\n",
       "      <td>0.016278</td>\n",
       "      <td>-0.052172</td>\n",
       "      <td>0.001479</td>\n",
       "      <td>0.011288</td>\n",
       "      <td>22.000000</td>\n",
       "      <td>0.000000</td>\n",
       "    </tr>\n",
       "    <tr>\n",
       "      <th>75%</th>\n",
       "      <td>139298.000000</td>\n",
       "      <td>1.316068</td>\n",
       "      <td>0.800283</td>\n",
       "      <td>1.026960</td>\n",
       "      <td>0.739647</td>\n",
       "      <td>0.612218</td>\n",
       "      <td>0.396792</td>\n",
       "      <td>0.570474</td>\n",
       "      <td>0.325704</td>\n",
       "      <td>0.595977</td>\n",
       "      <td>...</td>\n",
       "      <td>0.186194</td>\n",
       "      <td>0.528245</td>\n",
       "      <td>0.147748</td>\n",
       "      <td>0.439738</td>\n",
       "      <td>0.350667</td>\n",
       "      <td>0.240261</td>\n",
       "      <td>0.091208</td>\n",
       "      <td>0.078276</td>\n",
       "      <td>77.510000</td>\n",
       "      <td>0.000000</td>\n",
       "    </tr>\n",
       "    <tr>\n",
       "      <th>max</th>\n",
       "      <td>172792.000000</td>\n",
       "      <td>2.454930</td>\n",
       "      <td>22.057729</td>\n",
       "      <td>9.382558</td>\n",
       "      <td>16.875344</td>\n",
       "      <td>34.801666</td>\n",
       "      <td>73.301626</td>\n",
       "      <td>120.589494</td>\n",
       "      <td>20.007208</td>\n",
       "      <td>15.594995</td>\n",
       "      <td>...</td>\n",
       "      <td>27.202839</td>\n",
       "      <td>10.503090</td>\n",
       "      <td>22.528412</td>\n",
       "      <td>4.584549</td>\n",
       "      <td>7.519589</td>\n",
       "      <td>3.517346</td>\n",
       "      <td>31.612198</td>\n",
       "      <td>33.847808</td>\n",
       "      <td>25691.160000</td>\n",
       "      <td>1.000000</td>\n",
       "    </tr>\n",
       "  </tbody>\n",
       "</table>\n",
       "<p>8 rows × 31 columns</p>\n",
       "</div>"
      ],
      "text/plain": [
       "                Time             V1             V2             V3  \\\n",
       "count  283726.000000  283726.000000  283726.000000  283726.000000   \n",
       "mean    94811.077600       0.005917      -0.004135       0.001613   \n",
       "std     47481.047891       1.948026       1.646703       1.508682   \n",
       "min         0.000000     -56.407510     -72.715728     -48.325589   \n",
       "25%     54204.750000      -0.915951      -0.600321      -0.889682   \n",
       "50%     84692.500000       0.020384       0.063949       0.179963   \n",
       "75%    139298.000000       1.316068       0.800283       1.026960   \n",
       "max    172792.000000       2.454930      22.057729       9.382558   \n",
       "\n",
       "                  V4             V5             V6             V7  \\\n",
       "count  283726.000000  283726.000000  283726.000000  283726.000000   \n",
       "mean       -0.002966       0.001828      -0.001139       0.001801   \n",
       "std         1.414184       1.377008       1.331931       1.227664   \n",
       "min        -5.683171    -113.743307     -26.160506     -43.557242   \n",
       "25%        -0.850134      -0.689830      -0.769031      -0.552509   \n",
       "50%        -0.022248      -0.053468      -0.275168       0.040859   \n",
       "75%         0.739647       0.612218       0.396792       0.570474   \n",
       "max        16.875344      34.801666      73.301626     120.589494   \n",
       "\n",
       "                  V8             V9      ...                  V21  \\\n",
       "count  283726.000000  283726.000000      ...        283726.000000   \n",
       "mean       -0.000854      -0.001596      ...            -0.000371   \n",
       "std         1.179054       1.095492      ...             0.723909   \n",
       "min       -73.216718     -13.434066      ...           -34.830382   \n",
       "25%        -0.208828      -0.644221      ...            -0.228305   \n",
       "50%         0.021898      -0.052596      ...            -0.029441   \n",
       "75%         0.325704       0.595977      ...             0.186194   \n",
       "max        20.007208      15.594995      ...            27.202839   \n",
       "\n",
       "                 V22            V23            V24            V25  \\\n",
       "count  283726.000000  283726.000000  283726.000000  283726.000000   \n",
       "mean       -0.000015       0.000198       0.000214      -0.000232   \n",
       "std         0.724550       0.623702       0.605627       0.521220   \n",
       "min       -10.933144     -44.807735      -2.836627     -10.295397   \n",
       "25%        -0.542700      -0.161703      -0.354453      -0.317485   \n",
       "50%         0.006675      -0.011159       0.041016       0.016278   \n",
       "75%         0.528245       0.147748       0.439738       0.350667   \n",
       "max        10.503090      22.528412       4.584549       7.519589   \n",
       "\n",
       "                 V26            V27            V28         Amount  \\\n",
       "count  283726.000000  283726.000000  283726.000000  283726.000000   \n",
       "mean        0.000149       0.001763       0.000547      88.472687   \n",
       "std         0.482053       0.395744       0.328027     250.399437   \n",
       "min        -2.604551     -22.565679     -15.430084       0.000000   \n",
       "25%        -0.326763      -0.070641      -0.052818       5.600000   \n",
       "50%        -0.052172       0.001479       0.011288      22.000000   \n",
       "75%         0.240261       0.091208       0.078276      77.510000   \n",
       "max         3.517346      31.612198      33.847808   25691.160000   \n",
       "\n",
       "               Class  \n",
       "count  283726.000000  \n",
       "mean        0.001667  \n",
       "std         0.040796  \n",
       "min         0.000000  \n",
       "25%         0.000000  \n",
       "50%         0.000000  \n",
       "75%         0.000000  \n",
       "max         1.000000  \n",
       "\n",
       "[8 rows x 31 columns]"
      ]
     },
     "execution_count": 8,
     "metadata": {},
     "output_type": "execute_result"
    }
   ],
   "source": [
    "train.describe()"
   ]
  },
  {
   "cell_type": "markdown",
   "metadata": {},
   "source": [
    "From above as we can see that data does some duplicates, so 1st task is to delete dupliacates."
   ]
  },
  {
   "cell_type": "markdown",
   "metadata": {},
   "source": [
    "## Data Analysis"
   ]
  },
  {
   "cell_type": "code",
   "execution_count": 9,
   "metadata": {},
   "outputs": [
    {
     "data": {
      "text/plain": [
       "<matplotlib.figure.Figure at 0x8319250>"
      ]
     },
     "metadata": {},
     "output_type": "display_data"
    },
    {
     "data": {
      "image/png": "[encoded data removed]",
      "text/plain": [
       "<matplotlib.figure.Figure at 0x830efd0>"
      ]
     },
     "metadata": {},
     "output_type": "display_data"
    },
    {
     "data": {
      "image/png": "[encoded data removed]",
      "text/plain": [
       "<matplotlib.figure.Figure at 0xd064e90>"
      ]
     },
     "metadata": {},
     "output_type": "display_data"
    }
   ],
   "source": [
    "plt.figure()\n",
    "train.diff().hist(color='k', alpha=0.5, bins=50)\n",
    "plt.show()\n",
    "train.plot.box()\n",
    "plt.show()"
   ]
  },
  {
   "cell_type": "code",
   "execution_count": 10,
   "metadata": {},
   "outputs": [
    {
     "data": {
      "text/plain": [
       "Time      -0.035581\n",
       "V1        -3.273271\n",
       "V2        -4.695162\n",
       "V3        -2.151984\n",
       "V4         0.671504\n",
       "V5        -2.414079\n",
       "V6         1.829880\n",
       "V7         2.890271\n",
       "V8        -8.310970\n",
       "V9         0.537663\n",
       "V10        1.252967\n",
       "V11        0.344074\n",
       "V12       -2.199008\n",
       "V13        0.064293\n",
       "V14       -1.918804\n",
       "V15       -0.309659\n",
       "V16       -1.051161\n",
       "V17       -3.690497\n",
       "V18       -0.248661\n",
       "V19        0.108312\n",
       "V20       -2.043121\n",
       "V21        2.820033\n",
       "V22       -0.182330\n",
       "V23       -5.867221\n",
       "V24       -0.552129\n",
       "V25       -0.415744\n",
       "V26        0.580292\n",
       "V27       -0.753804\n",
       "V28       11.555115\n",
       "Amount    16.978803\n",
       "Class     24.430545\n",
       "dtype: float64"
      ]
     },
     "execution_count": 10,
     "metadata": {},
     "output_type": "execute_result"
    }
   ],
   "source": [
    "train.skew()"
   ]
  },
  {
   "cell_type": "code",
   "execution_count": 11,
   "metadata": {},
   "outputs": [
    {
     "data": {
      "text/plain": [
       "0    149.62\n",
       "1      2.69\n",
       "2    378.66\n",
       "3    123.50\n",
       "4     69.99\n",
       "Name: Amount, dtype: float64"
      ]
     },
     "execution_count": 11,
     "metadata": {},
     "output_type": "execute_result"
    }
   ],
   "source": [
    "train['Amount'].head()"
   ]
  },
  {
   "cell_type": "code",
   "execution_count": 12,
   "metadata": {},
   "outputs": [
    {
     "data": {
      "text/plain": [
       "0   -0.021053\n",
       "1    0.014724\n",
       "2   -0.059752\n",
       "3    0.061458\n",
       "4    0.215153\n",
       "Name: V28, dtype: float64"
      ]
     },
     "execution_count": 12,
     "metadata": {},
     "output_type": "execute_result"
    }
   ],
   "source": [
    "train['V28'].head()"
   ]
  },
  {
   "cell_type": "code",
   "execution_count": 13,
   "metadata": {},
   "outputs": [
    {
     "data": {
      "image/png": "[encoded data removed]",
      "text/plain": [
       "<matplotlib.figure.Figure at 0xa293fd0>"
      ]
     },
     "metadata": {},
     "output_type": "display_data"
    }
   ],
   "source": [
    "plt.figure()\n",
    "plt.hist(train['V28'],bins=100)\n",
    "plt.show()"
   ]
  },
  {
   "cell_type": "code",
   "execution_count": 14,
   "metadata": {},
   "outputs": [
    {
     "data": {
      "image/png": "[encoded data removed]",
      "text/plain": [
       "<matplotlib.figure.Figure at 0xc603890>"
      ]
     },
     "metadata": {},
     "output_type": "display_data"
    }
   ],
   "source": [
    "# Here log will represent amount in more normal distribution\n",
    "plt.figure(figsize=(12,5))\n",
    "plt.subplot(1,2,1)\n",
    "plt.hist(train['Amount'], bins=40)\n",
    "plt.title('Amount Distribution')\n",
    "\n",
    "plt.subplot(1,2,2)\n",
    "d0 = np.log10( train['Amount'].values + 1 )\n",
    "plt.hist( d0, bins=40 )\n",
    "plt.title('Log10(x+1) Transformed Amount Distribution')\n",
    "plt.show()"
   ]
  },
  {
   "cell_type": "markdown",
   "metadata": {},
   "source": [
    "## Data Exploration"
   ]
  },
  {
   "cell_type": "markdown",
   "metadata": {},
   "source": [
    "1. Log of Amount\n",
    "2. Center and scale all data, only using the middle 99.8%. So that outlier doesn't affect much."
   ]
  },
  {
   "cell_type": "code",
   "execution_count": 15,
   "metadata": {},
   "outputs": [
    {
     "name": "stderr",
     "output_type": "stream",
     "text": [
      "/usr/lib/python2.7/site-packages/ipykernel_launcher.py:2: SettingWithCopyWarning: \n",
      "A value is trying to be set on a copy of a slice from a DataFrame.\n",
      "Try using .loc[row_indexer,col_indexer] = value instead\n",
      "\n",
      "See the caveats in the documentation: http://pandas.pydata.org/pandas-docs/stable/indexing.html#indexing-view-versus-copy\n",
      "  \n"
     ]
    }
   ],
   "source": [
    "d_log = np.log10( train['Amount'].values + 1 )\n",
    "train['Amount'] = d_log"
   ]
  },
  {
   "cell_type": "code",
   "execution_count": 16,
   "metadata": {},
   "outputs": [
    {
     "name": "stderr",
     "output_type": "stream",
     "text": [
      "/usr/lib64/python2.7/site-packages/pandas/core/frame.py:2352: SettingWithCopyWarning: \n",
      "A value is trying to be set on a copy of a slice from a DataFrame.\n",
      "Try using .loc[row_indexer,col_indexer] = value instead\n",
      "\n",
      "See the caveats in the documentation: http://pandas.pydata.org/pandas-docs/stable/indexing.html#indexing-view-versus-copy\n",
      "  self[k1] = value[k2]\n"
     ]
    }
   ],
   "source": [
    "data_cols = list(train.columns[ train.columns != 'Class' ])\n",
    "percentiles =  pd.DataFrame( np.array([ np.percentile( train[i], [ 0.1, 99.9 ] ) for i in data_cols ]).T,\n",
    "                        columns=data_cols, index=['min','max'] )\n",
    "\n",
    "percentile_means = \\\n",
    "    [ [ np.mean( train.loc[ (train[i]>percentiles[i]['min']) & (train[i]<percentiles[i]['max']) , i ] ) ]\n",
    "     for i in data_cols ]\n",
    "\n",
    "percentiles = percentiles.append( pd.DataFrame(np.array(percentile_means).T, columns=data_cols, index=['mean']) )\n",
    "\n",
    "percentile_stds = \\\n",
    "    [ [ np.std( train.loc[ (train[i]>percentiles[i]['min']) & (train[i]<percentiles[i]['max']) , i ] ) ]\n",
    "     for i in data_cols ]\n",
    "\n",
    "percentiles = percentiles.append( pd.DataFrame(np.array(percentile_stds).T, columns=data_cols, index=['stdev']) )\n",
    "train[data_cols] = ( train[data_cols] - percentiles.loc[ 'mean', data_cols ] ) / percentiles.loc[ 'stdev', data_cols ]\n"
   ]
  },
  {
   "cell_type": "code",
   "execution_count": 17,
   "metadata": {},
   "outputs": [
    {
     "data": {
      "text/html": [
       "<div>\n",
       "<style>\n",
       "    .dataframe thead tr:only-child th {\n",
       "        text-align: right;\n",
       "    }\n",
       "\n",
       "    .dataframe thead th {\n",
       "        text-align: left;\n",
       "    }\n",
       "\n",
       "    .dataframe tbody tr th {\n",
       "        vertical-align: top;\n",
       "    }\n",
       "</style>\n",
       "<table border=\"1\" class=\"dataframe\">\n",
       "  <thead>\n",
       "    <tr style=\"text-align: right;\">\n",
       "      <th></th>\n",
       "      <th>Time</th>\n",
       "      <th>V1</th>\n",
       "      <th>V2</th>\n",
       "      <th>V3</th>\n",
       "      <th>V4</th>\n",
       "      <th>V5</th>\n",
       "      <th>V6</th>\n",
       "      <th>V7</th>\n",
       "      <th>V8</th>\n",
       "      <th>V9</th>\n",
       "      <th>...</th>\n",
       "      <th>V21</th>\n",
       "      <th>V22</th>\n",
       "      <th>V23</th>\n",
       "      <th>V24</th>\n",
       "      <th>V25</th>\n",
       "      <th>V26</th>\n",
       "      <th>V27</th>\n",
       "      <th>V28</th>\n",
       "      <th>Amount</th>\n",
       "      <th>Class</th>\n",
       "    </tr>\n",
       "  </thead>\n",
       "  <tbody>\n",
       "    <tr>\n",
       "      <th>count</th>\n",
       "      <td>283726.000000</td>\n",
       "      <td>283726.000000</td>\n",
       "      <td>283726.000000</td>\n",
       "      <td>283726.000000</td>\n",
       "      <td>283726.000000</td>\n",
       "      <td>283726.000000</td>\n",
       "      <td>283726.000000</td>\n",
       "      <td>283726.000000</td>\n",
       "      <td>283726.000000</td>\n",
       "      <td>283726.000000</td>\n",
       "      <td>...</td>\n",
       "      <td>283726.000000</td>\n",
       "      <td>283726.000000</td>\n",
       "      <td>283726.000000</td>\n",
       "      <td>283726.000000</td>\n",
       "      <td>283726.000000</td>\n",
       "      <td>283726.000000</td>\n",
       "      <td>283726.000000</td>\n",
       "      <td>283726.000000</td>\n",
       "      <td>283726.000000</td>\n",
       "      <td>283726.000000</td>\n",
       "    </tr>\n",
       "    <tr>\n",
       "      <th>mean</th>\n",
       "      <td>-0.000385</td>\n",
       "      <td>-0.011126</td>\n",
       "      <td>-0.009103</td>\n",
       "      <td>-0.008162</td>\n",
       "      <td>0.002726</td>\n",
       "      <td>-0.002011</td>\n",
       "      <td>0.000536</td>\n",
       "      <td>-0.000663</td>\n",
       "      <td>-0.011288</td>\n",
       "      <td>0.002165</td>\n",
       "      <td>...</td>\n",
       "      <td>0.004767</td>\n",
       "      <td>-0.001410</td>\n",
       "      <td>-0.004726</td>\n",
       "      <td>-0.000147</td>\n",
       "      <td>-0.001004</td>\n",
       "      <td>0.002363</td>\n",
       "      <td>-0.003311</td>\n",
       "      <td>0.004553</td>\n",
       "      <td>-0.009179</td>\n",
       "      <td>0.001667</td>\n",
       "    </tr>\n",
       "    <tr>\n",
       "      <th>std</th>\n",
       "      <td>1.002372</td>\n",
       "      <td>1.079540</td>\n",
       "      <td>1.155157</td>\n",
       "      <td>1.065761</td>\n",
       "      <td>1.023044</td>\n",
       "      <td>1.142194</td>\n",
       "      <td>1.054491</td>\n",
       "      <td>1.210402</td>\n",
       "      <td>1.242664</td>\n",
       "      <td>1.030450</td>\n",
       "      <td>...</td>\n",
       "      <td>1.323153</td>\n",
       "      <td>1.029046</td>\n",
       "      <td>1.440422</td>\n",
       "      <td>1.014831</td>\n",
       "      <td>1.031032</td>\n",
       "      <td>1.017350</td>\n",
       "      <td>1.218741</td>\n",
       "      <td>1.483283</td>\n",
       "      <td>1.013176</td>\n",
       "      <td>0.040796</td>\n",
       "    </tr>\n",
       "    <tr>\n",
       "      <th>min</th>\n",
       "      <td>-2.001941</td>\n",
       "      <td>-31.273830</td>\n",
       "      <td>-51.016081</td>\n",
       "      <td>-34.147384</td>\n",
       "      <td>-4.106427</td>\n",
       "      <td>-94.350778</td>\n",
       "      <td>-20.709867</td>\n",
       "      <td>-42.947217</td>\n",
       "      <td>-77.177120</td>\n",
       "      <td>-12.632785</td>\n",
       "      <td>...</td>\n",
       "      <td>-63.657097</td>\n",
       "      <td>-15.529230</td>\n",
       "      <td>-103.487287</td>\n",
       "      <td>-4.753758</td>\n",
       "      <td>-20.365989</td>\n",
       "      <td>-5.494732</td>\n",
       "      <td>-69.502449</td>\n",
       "      <td>-69.770230</td>\n",
       "      <td>-1.937460</td>\n",
       "      <td>0.000000</td>\n",
       "    </tr>\n",
       "    <tr>\n",
       "      <th>25%</th>\n",
       "      <td>-0.857625</td>\n",
       "      <td>-0.521999</td>\n",
       "      <td>-0.427326</td>\n",
       "      <td>-0.637790</td>\n",
       "      <td>-0.610129</td>\n",
       "      <td>-0.575724</td>\n",
       "      <td>-0.607404</td>\n",
       "      <td>-0.547179</td>\n",
       "      <td>-0.230482</td>\n",
       "      <td>-0.602305</td>\n",
       "      <td>...</td>\n",
       "      <td>-0.411849</td>\n",
       "      <td>-0.772161</td>\n",
       "      <td>-0.378633</td>\n",
       "      <td>-0.594453</td>\n",
       "      <td>-0.628566</td>\n",
       "      <td>-0.687571</td>\n",
       "      <td>-0.226288</td>\n",
       "      <td>-0.236756</td>\n",
       "      <td>-0.783663</td>\n",
       "      <td>0.000000</td>\n",
       "    </tr>\n",
       "    <tr>\n",
       "      <th>50%</th>\n",
       "      <td>-0.213999</td>\n",
       "      <td>-0.003109</td>\n",
       "      <td>0.038658</td>\n",
       "      <td>0.117827</td>\n",
       "      <td>-0.011223</td>\n",
       "      <td>-0.047877</td>\n",
       "      <td>-0.216412</td>\n",
       "      <td>0.037846</td>\n",
       "      <td>0.012692</td>\n",
       "      <td>-0.045806</td>\n",
       "      <td>...</td>\n",
       "      <td>-0.048367</td>\n",
       "      <td>0.008091</td>\n",
       "      <td>-0.030954</td>\n",
       "      <td>0.068223</td>\n",
       "      <td>0.031656</td>\n",
       "      <td>-0.108058</td>\n",
       "      <td>-0.004187</td>\n",
       "      <td>0.053119</td>\n",
       "      <td>-0.020348</td>\n",
       "      <td>0.000000</td>\n",
       "    </tr>\n",
       "    <tr>\n",
       "      <th>75%</th>\n",
       "      <td>0.938777</td>\n",
       "      <td>0.714922</td>\n",
       "      <td>0.555194</td>\n",
       "      <td>0.716161</td>\n",
       "      <td>0.539944</td>\n",
       "      <td>0.504292</td>\n",
       "      <td>0.315579</td>\n",
       "      <td>0.560014</td>\n",
       "      <td>0.332888</td>\n",
       "      <td>0.564259</td>\n",
       "      <td>...</td>\n",
       "      <td>0.345767</td>\n",
       "      <td>0.748853</td>\n",
       "      <td>0.336037</td>\n",
       "      <td>0.736351</td>\n",
       "      <td>0.693115</td>\n",
       "      <td>0.509108</td>\n",
       "      <td>0.272146</td>\n",
       "      <td>0.356030</td>\n",
       "      <td>0.730315</td>\n",
       "      <td>0.000000</td>\n",
       "    </tr>\n",
       "    <tr>\n",
       "      <th>max</th>\n",
       "      <td>1.645869</td>\n",
       "      <td>1.346046</td>\n",
       "      <td>15.467232</td>\n",
       "      <td>6.618709</td>\n",
       "      <td>12.212769</td>\n",
       "      <td>28.863591</td>\n",
       "      <td>58.034427</td>\n",
       "      <td>118.891434</td>\n",
       "      <td>21.076202</td>\n",
       "      <td>14.672747</td>\n",
       "      <td>...</td>\n",
       "      <td>49.726457</td>\n",
       "      <td>14.915666</td>\n",
       "      <td>52.023499</td>\n",
       "      <td>7.681688</td>\n",
       "      <td>14.874041</td>\n",
       "      <td>7.425238</td>\n",
       "      <td>97.344804</td>\n",
       "      <td>153.056313</td>\n",
       "      <td>4.270889</td>\n",
       "      <td>1.000000</td>\n",
       "    </tr>\n",
       "  </tbody>\n",
       "</table>\n",
       "<p>8 rows × 31 columns</p>\n",
       "</div>"
      ],
      "text/plain": [
       "                Time             V1             V2             V3  \\\n",
       "count  283726.000000  283726.000000  283726.000000  283726.000000   \n",
       "mean       -0.000385      -0.011126      -0.009103      -0.008162   \n",
       "std         1.002372       1.079540       1.155157       1.065761   \n",
       "min        -2.001941     -31.273830     -51.016081     -34.147384   \n",
       "25%        -0.857625      -0.521999      -0.427326      -0.637790   \n",
       "50%        -0.213999      -0.003109       0.038658       0.117827   \n",
       "75%         0.938777       0.714922       0.555194       0.716161   \n",
       "max         1.645869       1.346046      15.467232       6.618709   \n",
       "\n",
       "                  V4             V5             V6             V7  \\\n",
       "count  283726.000000  283726.000000  283726.000000  283726.000000   \n",
       "mean        0.002726      -0.002011       0.000536      -0.000663   \n",
       "std         1.023044       1.142194       1.054491       1.210402   \n",
       "min        -4.106427     -94.350778     -20.709867     -42.947217   \n",
       "25%        -0.610129      -0.575724      -0.607404      -0.547179   \n",
       "50%        -0.011223      -0.047877      -0.216412       0.037846   \n",
       "75%         0.539944       0.504292       0.315579       0.560014   \n",
       "max        12.212769      28.863591      58.034427     118.891434   \n",
       "\n",
       "                  V8             V9      ...                  V21  \\\n",
       "count  283726.000000  283726.000000      ...        283726.000000   \n",
       "mean       -0.011288       0.002165      ...             0.004767   \n",
       "std         1.242664       1.030450      ...             1.323153   \n",
       "min       -77.177120     -12.632785      ...           -63.657097   \n",
       "25%        -0.230482      -0.602305      ...            -0.411849   \n",
       "50%         0.012692      -0.045806      ...            -0.048367   \n",
       "75%         0.332888       0.564259      ...             0.345767   \n",
       "max        21.076202      14.672747      ...            49.726457   \n",
       "\n",
       "                 V22            V23            V24            V25  \\\n",
       "count  283726.000000  283726.000000  283726.000000  283726.000000   \n",
       "mean       -0.001410      -0.004726      -0.000147      -0.001004   \n",
       "std         1.029046       1.440422       1.014831       1.031032   \n",
       "min       -15.529230    -103.487287      -4.753758     -20.365989   \n",
       "25%        -0.772161      -0.378633      -0.594453      -0.628566   \n",
       "50%         0.008091      -0.030954       0.068223       0.031656   \n",
       "75%         0.748853       0.336037       0.736351       0.693115   \n",
       "max        14.915666      52.023499       7.681688      14.874041   \n",
       "\n",
       "                 V26            V27            V28         Amount  \\\n",
       "count  283726.000000  283726.000000  283726.000000  283726.000000   \n",
       "mean        0.002363      -0.003311       0.004553      -0.009179   \n",
       "std         1.017350       1.218741       1.483283       1.013176   \n",
       "min        -5.494732     -69.502449     -69.770230      -1.937460   \n",
       "25%        -0.687571      -0.226288      -0.236756      -0.783663   \n",
       "50%        -0.108058      -0.004187       0.053119      -0.020348   \n",
       "75%         0.509108       0.272146       0.356030       0.730315   \n",
       "max         7.425238      97.344804     153.056313       4.270889   \n",
       "\n",
       "               Class  \n",
       "count  283726.000000  \n",
       "mean        0.001667  \n",
       "std         0.040796  \n",
       "min         0.000000  \n",
       "25%         0.000000  \n",
       "50%         0.000000  \n",
       "75%         0.000000  \n",
       "max         1.000000  \n",
       "\n",
       "[8 rows x 31 columns]"
      ]
     },
     "execution_count": 17,
     "metadata": {},
     "output_type": "execute_result"
    }
   ],
   "source": [
    "train.describe()"
   ]
  },
  {
   "cell_type": "code",
   "execution_count": 18,
   "metadata": {
    "collapsed": true
   },
   "outputs": [],
   "source": [
    "train_model= train\n",
    "train = train.loc[ train['Class']==1 ].copy()\n",
    "\n",
    "label_cols = [ i for i in train.columns if 'Class' in i ]\n",
    "data_cols = [ i for i in train.columns if i not in label_cols ]\n",
    "train[ data_cols ] = train[ data_cols ] / 10 \n",
    "train_no_label = train[data_cols]"
   ]
  },
  {
   "cell_type": "markdown",
   "metadata": {},
   "source": [
    "## Modeling"
   ]
  },
  {
   "cell_type": "code",
   "execution_count": 19,
   "metadata": {
    "collapsed": true
   },
   "outputs": [],
   "source": [
    "data_dim = 32 # 32 # needs to be ~data_dim\n",
    "base_n_count = 128 # 128\n",
    "steps = 500 + 1 # 50000 # Add one for logging of the last interval\n",
    "batch_size = 128 # 64\n",
    "k_d = 1  # number of critic network updates per adversarial training step\n",
    "k_g = 1  # number of generator network updates per adversarial training step\n",
    "critic_pre_train_steps = 100 # 100  # number of steps to pre-train the critic before starting \n",
    "                                        #adversarial training\n",
    "log_interval = 100 # 100  # interval (in steps) at which to log loss summaries and save plots of \n",
    "                                    #image samples to disc\n",
    "learning_rate = 5e-4 # 5e-5\n",
    "data_dir = 'cache/'\n",
    "generator_model_path, discriminator_model_path, loss_pickle_path = None, None, None\n",
    "show = True \n"
   ]
  },
  {
   "cell_type": "code",
   "execution_count": 20,
   "metadata": {},
   "outputs": [
    {
     "name": "stdout",
     "output_type": "stream",
     "text": [
      "('data_dim: ', 30)\n",
      "('data_cols: ', ['Time', 'V1', 'V2', 'V3', 'V4', 'V5', 'V6', 'V7', 'V8', 'V9', 'V10', 'V11', 'V12', 'V13', 'V14', 'V15', 'V16', 'V17', 'V18', 'V19', 'V20', 'V21', 'V22', 'V23', 'V24', 'V25', 'V26', 'V27', 'V28', 'Amount'])\n"
     ]
    },
    {
     "name": "stderr",
     "output_type": "stream",
     "text": [
      "/usr/lib64/python2.7/site-packages/keras/engine/training.py:953: UserWarning: Discrepancy between trainable weights and collected trainable weights, did you set `model.trainable` without calling `model.compile` after ?\n",
      "  'Discrepancy between trainable weights and collected trainable'\n"
     ]
    },
    {
     "name": "stdout",
     "output_type": "stream",
     "text": [
      "Step: 0 of 501.\n",
      "Losses: G, D Gen, D Real, Xgb: 0.6708, 0.7377, 0.6551, 0.0000\n",
      "D Real - D Gen: -0.0827\n",
      "Generator model loss: 0.670765936375.\n",
      "Discriminator model loss gen: 0.73770481348.\n",
      "Discriminator model loss real: 0.65505450964.\n",
      "svc loss: 0.0\n",
      "(492, 30) real data\n",
      "(492, 30) generated da\n",
      "['Time', 'V1', 'V2', 'V3', 'V4', 'V5', 'V6', 'V7', 'V8', 'V9', 'V10', 'V11', 'V12', 'V13', 'V14', 'V15', 'V16', 'V17', 'V18', 'V19', 'V20', 'V21', 'V22', 'V23', 'V24', 'V25', 'V26', 'V27', 'V28', 'Amount'] []\n"
     ]
    },
    {
     "data": {
      "image/png": "[encoded data removed]",
      "text/plain": [
       "<matplotlib.figure.Figure at 0x9b3eed0>"
      ]
     },
     "metadata": {},
     "output_type": "display_data"
    },
    {
     "name": "stdout",
     "output_type": "stream",
     "text": [
      "Step: 100 of 501.\n",
      "Losses: G, D Gen, D Real, Xgb: 0.8087, 0.7642, 0.7181, 0.0000\n",
      "D Real - D Gen: -0.0460\n",
      "Generator model loss: 0.808676660061.\n",
      "Discriminator model loss gen: 0.764167547226.\n",
      "Discriminator model loss real: 0.718131899834.\n",
      "svc loss: 0.0\n",
      "(492, 30) real data\n",
      "(492, 30) generated da\n",
      "['Time', 'V1', 'V2', 'V3', 'V4', 'V5', 'V6', 'V7', 'V8', 'V9', 'V10', 'V11', 'V12', 'V13', 'V14', 'V15', 'V16', 'V17', 'V18', 'V19', 'V20', 'V21', 'V22', 'V23', 'V24', 'V25', 'V26', 'V27', 'V28', 'Amount'] []\n"
     ]
    },
    {
     "data": {
      "image/png": "[encoded data removed]",
      "text/plain": [
       "<matplotlib.figure.Figure at 0x9e35c10>"
      ]
     },
     "metadata": {},
     "output_type": "display_data"
    },
    {
     "name": "stdout",
     "output_type": "stream",
     "text": [
      "Step: 200 of 501.\n",
      "Losses: G, D Gen, D Real, Xgb: 0.7900, 0.8503, 0.5442, 0.0000\n",
      "D Real - D Gen: -0.3061\n",
      "Generator model loss: 0.789958298206.\n",
      "Discriminator model loss gen: 0.850347995758.\n",
      "Discriminator model loss real: 0.544245123863.\n",
      "svc loss: 0.0\n",
      "(492, 30) real data\n",
      "(492, 30) generated da\n",
      "['Time', 'V1', 'V2', 'V3', 'V4', 'V5', 'V6', 'V7', 'V8', 'V9', 'V10', 'V11', 'V12', 'V13', 'V14', 'V15', 'V16', 'V17', 'V18', 'V19', 'V20', 'V21', 'V22', 'V23', 'V24', 'V25', 'V26', 'V27', 'V28', 'Amount'] []\n"
     ]
    },
    {
     "data": {
      "image/png": "[encoded data removed]",
      "text/plain": [
       "<matplotlib.figure.Figure at 0xbba9f10>"
      ]
     },
     "metadata": {},
     "output_type": "display_data"
    },
    {
     "name": "stdout",
     "output_type": "stream",
     "text": [
      "Step: 300 of 501.\n",
      "Losses: G, D Gen, D Real, Xgb: 0.8745, 0.6598, 0.7306, 0.0000\n",
      "D Real - D Gen: 0.0708\n",
      "Generator model loss: 0.874529659748.\n",
      "Discriminator model loss gen: 0.659767746925.\n",
      "Discriminator model loss real: 0.730587482452.\n",
      "svc loss: 0.0\n",
      "(492, 30) real data\n",
      "(492, 30) generated da\n",
      "['Time', 'V1', 'V2', 'V3', 'V4', 'V5', 'V6', 'V7', 'V8', 'V9', 'V10', 'V11', 'V12', 'V13', 'V14', 'V15', 'V16', 'V17', 'V18', 'V19', 'V20', 'V21', 'V22', 'V23', 'V24', 'V25', 'V26', 'V27', 'V28', 'Amount'] []\n"
     ]
    },
    {
     "data": {
      "image/png": "[encoded data removed]",
      "text/plain": [
       "<matplotlib.figure.Figure at 0x12380990>"
      ]
     },
     "metadata": {},
     "output_type": "display_data"
    },
    {
     "name": "stdout",
     "output_type": "stream",
     "text": [
      "Step: 400 of 501.\n",
      "Losses: G, D Gen, D Real, Xgb: 1.0953, 0.5416, 0.6716, 0.0000\n",
      "D Real - D Gen: 0.1300\n",
      "Generator model loss: 1.0953001976.\n",
      "Discriminator model loss gen: 0.541582882404.\n",
      "Discriminator model loss real: 0.67163169384.\n",
      "svc loss: 0.0\n",
      "(492, 30) real data\n",
      "(492, 30) generated da\n",
      "['Time', 'V1', 'V2', 'V3', 'V4', 'V5', 'V6', 'V7', 'V8', 'V9', 'V10', 'V11', 'V12', 'V13', 'V14', 'V15', 'V16', 'V17', 'V18', 'V19', 'V20', 'V21', 'V22', 'V23', 'V24', 'V25', 'V26', 'V27', 'V28', 'Amount'] []\n"
     ]
    },
    {
     "data": {
      "image/png": "[encoded data removed]",
      "text/plain": [
       "<matplotlib.figure.Figure at 0x9c250d0>"
      ]
     },
     "metadata": {},
     "output_type": "display_data"
    },
    {
     "name": "stdout",
     "output_type": "stream",
     "text": [
      "Step: 500 of 501.\n",
      "Losses: G, D Gen, D Real, Xgb: 1.1564, 0.5946, 0.6875, 0.0000\n",
      "D Real - D Gen: 0.0929\n",
      "Generator model loss: 1.15637111664.\n",
      "Discriminator model loss gen: 0.594561040401.\n",
      "Discriminator model loss real: 0.687459886074.\n",
      "svc loss: 0.0\n",
      "(492, 30) real data\n",
      "(492, 30) generated da\n",
      "['Time', 'V1', 'V2', 'V3', 'V4', 'V5', 'V6', 'V7', 'V8', 'V9', 'V10', 'V11', 'V12', 'V13', 'V14', 'V15', 'V16', 'V17', 'V18', 'V19', 'V20', 'V21', 'V22', 'V23', 'V24', 'V25', 'V26', 'V27', 'V28', 'Amount'] []\n"
     ]
    },
    {
     "data": {
      "image/png": "[encoded data removed]",
      "text/plain": [
       "<matplotlib.figure.Figure at 0x9c33ed0>"
      ]
     },
     "metadata": {},
     "output_type": "display_data"
    }
   ],
   "source": [
    "\n",
    "# Training the vanilla GAN \n",
    "k_d = 1  # number of critic network updates per adversarial training step\n",
    "learning_rate = 5e-4 # 5e-5\n",
    "arguments = [data_dim, steps, batch_size, \n",
    "             k_d, k_g, critic_pre_train_steps, log_interval, learning_rate, base_n_count,\n",
    "            data_dir, generator_model_path, discriminator_model_path, loss_pickle_path, show ]\n",
    "\n",
    "adversarial_training_GAN(arguments, train_no_label, data_cols ) # GAN"
   ]
  },
  {
   "cell_type": "markdown",
   "metadata": {},
   "source": [
    "## Prediction"
   ]
  },
  {
   "cell_type": "code",
   "execution_count": 21,
   "metadata": {},
   "outputs": [
    {
     "name": "stdout",
     "output_type": "stream",
     "text": [
      "[0.78873239 0.74157303 0.81605351] f1 score using mlp after data generation\n"
     ]
    }
   ],
   "source": [
    "generated_data = pd.read_csv('generated_data.csv')\n",
    "generated_data['Class'] = [0]*len(generated_data)\n",
    "generated_data.rename(columns=dict(zip(generated_data.columns, train_model.columns)), inplace=True)\n",
    "data = train_model.append(generated_data)\n",
    "\n",
    "from sklearn.utils import shuffle\n",
    "from sklearn.neural_network import MLPClassifier\n",
    "from sklearn.model_selection import cross_val_score\n",
    "data = shuffle(data)\n",
    "clf_mlp = MLPClassifier(hidden_layer_sizes = (10,4) ,warm_start = True)\n",
    "target = data['Class'].values\n",
    "features = data.drop(['Class'],axis = 1).values\n",
    "print  cross_val_score(clf_mlp,features,target,scoring = 'f1'), 'f1 score using mlp after data generation'"
   ]
  }
 ],
 "metadata": {
  "kernelspec": {
   "display_name": "Python 2",
   "language": "python",
   "name": "python2"
  },
  "language_info": {
   "codemirror_mode": {
    "name": "ipython",
    "version": 2
   },
   "file_extension": ".py",
   "mimetype": "text/x-python",
   "name": "python",
   "nbconvert_exporter": "python",
   "pygments_lexer": "ipython2",
   "version": "2.7.5"
  }
 },
 "nbformat": 4,
 "nbformat_minor": 2
}
